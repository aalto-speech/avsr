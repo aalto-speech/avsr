{
 "cells": [
  {
   "cell_type": "markdown",
   "metadata": {},
   "source": [
    "# Small data sample creation from PlacesAudio and Places205\n",
    "\n",
    "In this notebook, a small sample of PlacesAudio is created for making local test runs on desktop.\n",
    "\n",
    "First take a subset of image/caption pairs from `train.json` and write it to a separate file."
   ]
  },
  {
   "cell_type": "code",
   "execution_count": 1,
   "metadata": {},
   "outputs": [],
   "source": [
    "import json\n",
    "\n",
    "data_path = \"/teamwork/t40511_asr/c/PlacesAudio400k/PlacesAudio_400k_distro\"\n",
    "train_json = \"metadata/train.json\"\n",
    "\n",
    "with open(data_path + \"/\" + train_json) as f:\n",
    "    data_train = json.load(f)\n",
    "\n",
    "sample_size = 1000\n",
    "\n",
    "# Copy the image and audio paths at the top of the json first...\n",
    "all_keys = data_train.keys()\n",
    "keys = [key for key in (k for k in all_keys if k not in 'data')]\n",
    "train_sample = { key: data_train[key] for key in keys }\n",
    "# ... and then copy a sample of the data.\n",
    "train_sample['data'] = data_train['data'][0:sample_size]\n",
    "\n",
    "train_sample_30k = \"train1k.json\"\n",
    "with open(data_path + \"/\" + train_sample_30k, 'w') as f:\n",
    "    json.dump(train_sample, f, indent=4)"
   ]
  },
  {
   "cell_type": "markdown",
   "metadata": {},
   "source": [
    "Then, write the image paths to a text file. This is for collecting the images from Triton, where the images are stored. (Audio is stored in `teamwork` corpus folder, so the same is not necessary for the wavs.)"
   ]
  },
  {
   "cell_type": "code",
   "execution_count": 45,
   "metadata": {},
   "outputs": [],
   "source": [
    "image_path_file = \"train30k_image_paths\"\n",
    "with open(data_folder + \"/\" + image_path_file, 'w') as f:\n",
    "    for item in train_sample['data']:\n",
    "        f.write(\"/scratch/cs/imagedb/picsom/databases/places/download/Images/\" + item['image'] + \"\\n\")\n"
   ]
  },
  {
   "cell_type": "markdown",
   "metadata": {},
   "source": [
    "Do the same for the validation dataset."
   ]
  },
  {
   "cell_type": "code",
   "execution_count": 46,
   "metadata": {},
   "outputs": [],
   "source": [
    "val_json = \"metadata/val.json\"\n",
    "\n",
    "with open(data_path + \"/\" + val_json) as f:\n",
    "    data_val = json.load(f)\n",
    "\n",
    "image_path_file = \"val_image_paths\"\n",
    "with open(data_folder + \"/\" + image_path_file, 'w') as f:\n",
    "    for item in data_val['data']:\n",
    "        f.write(\"/scratch/cs/imagedb/picsom/databases/places/download/Images/\" + item['image'] + \"\\n\")"
   ]
  }
 ],
 "metadata": {
  "kernelspec": {
   "display_name": "Python 3",
   "language": "python",
   "name": "python3"
  },
  "language_info": {
   "codemirror_mode": {
    "name": "ipython",
    "version": 3
   },
   "file_extension": ".py",
   "mimetype": "text/x-python",
   "name": "python",
   "nbconvert_exporter": "python",
   "pygments_lexer": "ipython3",
   "version": "3.6.8"
  }
 },
 "nbformat": 4,
 "nbformat_minor": 2
}
