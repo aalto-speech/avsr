{
 "cells": [
  {
   "cell_type": "markdown",
   "metadata": {},
   "source": [
    "# Create class labels for PlacesAudio from Places205 image paths\n",
    "\n",
    "The audio-visual embeddings models of Harwath et al.\n",
    "\n",
    "- [NIPS 2016 model](https://papers.nips.cc/paper/6186-unsupervised-learning-of-spoken-language-with-visual-context.pdf)\n",
    "- [ACL 2017 model](https://arxiv.org/pdf/1701.07481.pdf)\n",
    "- [DAVEnet model](https://github.com/dharwath/DAVEnet-pytorch)\n",
    "\n",
    "are difficult to train from scratch. Initial warm-up could help, but the audio data has no labels. However, the images paired with audio captions have been organized to classes that are visible in their path (e.g. `c/cottage_garden/gsun_c43911d6f8ff4efb5e99dc6ac7e47a8e.jpg`). In this notebook the aim is to extract the classes from the image paths to get classification labels for the audio. Each audio caption has one corresponding image and thus one label.\n",
    "\n",
    "First we process the data used in the NIPS 2016 paper. The image/caption pairs and paths are listed in `nips_train.json`."
   ]
  },
  {
   "cell_type": "code",
   "execution_count": 1,
   "metadata": {},
   "outputs": [],
   "source": [
    "import json\n",
    "import re           # Regexps\n",
    "import warnings     # Place warnings if any anomalies encountered\n",
    "\n",
    "data_path = \"/teamwork/t40511_asr/c/PlacesAudio400k/PlacesAudio_400k_distro\"\n",
    "train_json = \"metadata/nips_train.json\"\n",
    "classes_file = \"metadata/Places205_classes.txt\"\n",
    "\n",
    "with open(data_path + \"/\" + train_json) as f:\n",
    "    data_train = json.load(f)\n",
    "    \n",
    "with open(data_path + \"/\" + classes_file) as f:\n",
    "    classes = f.read().splitlines()\n",
    "    \n",
    "for i in range(len(data_train[\"data\"])):\n",
    "    # Replace key \"image\" with \"label\"\n",
    "    data_train[\"data\"][i][\"label\"] = data_train[\"data\"][i].pop(\"image\")\n",
    "    # Find the class from the image path using regexp\n",
    "    match = re.search('[a-z]?\\/(.+)\\/gsun', data_train[\"data\"][i][\"label\"])\n",
    "    if match:\n",
    "        if match.group(1) in classes:\n",
    "            # Use an index number instead of the word label\n",
    "            data_train[\"data\"][i][\"label\"] = classes.index(match.group(1))\n",
    "        else:\n",
    "            warnings.warn(\"Did not find label '%s' among Places205 classes.\".format(match.group(1)))\n",
    "    else:\n",
    "        warnings.warn(\"Matching regexp to '%s' failed\".format(data_train[\"data\"][i][\"label\"]))\n",
    "        \n",
    "output_train = \"metadata/nips_classification_train.json\"\n",
    "with open(data_path + \"/\" + output_train, 'w') as f:\n",
    "    json.dump(data_train, f, indent=4)"
   ]
  },
  {
   "cell_type": "markdown",
   "metadata": {},
   "source": [
    "Do the same for the validation dataset."
   ]
  },
  {
   "cell_type": "code",
   "execution_count": 2,
   "metadata": {},
   "outputs": [],
   "source": [
    "val_json = \"metadata/val.json\"\n",
    "\n",
    "with open(data_path + \"/\" + val_json) as f:\n",
    "    data_val = json.load(f)\n",
    "\n",
    "for i in range(len(data_val[\"data\"])):\n",
    "    # Replace key \"image\" with \"label\"\n",
    "    data_val[\"data\"][i][\"label\"] = data_val[\"data\"][i].pop(\"image\")\n",
    "    # Find the class from the image path using regexp\n",
    "    match = re.search('[a-z]?\\/(.+)\\/gsun', data_val[\"data\"][i][\"label\"])\n",
    "    if match:\n",
    "        if match.group(1) in classes:\n",
    "            # Use an index number instead of the word label\n",
    "            data_val[\"data\"][i][\"label\"] = classes.index(match.group(1))\n",
    "        else:\n",
    "            warnings.warn(\"Did not find label '%s' among Places205 classes.\".format(match.group(1)))\n",
    "    else:\n",
    "        warnings.warn(\"Matching regexp to '%s' failed\".format(data_val[\"data\"][i][\"label\"]))\n",
    "        \n",
    "output_val = \"metadata/classification_val.json\"\n",
    "with open(data_path + \"/\" + output_val, 'w') as f:\n",
    "    json.dump(data_val, f, indent=4)"
   ]
  }
 ],
 "metadata": {
  "kernelspec": {
   "display_name": "Python 3",
   "language": "python",
   "name": "python3"
  },
  "language_info": {
   "codemirror_mode": {
    "name": "ipython",
    "version": 3
   },
   "file_extension": ".py",
   "mimetype": "text/x-python",
   "name": "python",
   "nbconvert_exporter": "python",
   "pygments_lexer": "ipython3",
   "version": "3.7.4"
  }
 },
 "nbformat": 4,
 "nbformat_minor": 4
}
