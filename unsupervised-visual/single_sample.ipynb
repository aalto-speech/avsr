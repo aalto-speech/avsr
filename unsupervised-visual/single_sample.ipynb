{
 "cells": [
  {
   "cell_type": "code",
   "execution_count": 1,
   "metadata": {
    "collapsed": true,
    "pycharm": {
     "is_executing": false
    }
   },
   "outputs": [],
   "source": [
    "import os\n",
    "import torch\n",
    "\n",
    "import dataloaders\n",
    "import models\n",
    "from steps.util import *"
   ]
  },
  {
   "cell_type": "code",
   "execution_count": 2,
   "outputs": [],
   "source": [
    "data_train = \"/teamwork/t40511_asr/c/PlacesAudio400k/PlacesAudio_400k_distro/metadata/train1sample.json\"\n",
    "train_loader = torch.utils.data.DataLoader(\n",
    "    dataloaders.ImageCaptionDataset(data_train, audio_conf={'target_length': 2048}, image_conf={'center_crop': True}),\n",
    "    batch_size=1, shuffle=True, num_workers=8, pin_memory=True)\n",
    "\n",
    "val_loader = torch.utils.data.DataLoader(\n",
    "    dataloaders.ImageCaptionDataset(data_train, audio_conf={'target_length': 2048}, image_conf={'center_crop': True}),\n",
    "    batch_size=1, shuffle=False, num_workers=8, pin_memory=True)\n",
    "\n",
    "audio_model = models.ConvX3AudioNet(input_length=2048)\n",
    "image_model = models.VGG16()\n",
    "\n",
    "device = torch.device(\"cuda\" if torch.cuda.is_available() else \"cpu\")\n",
    "torch.set_grad_enabled(True)\n",
    "dot_loss = DotLoss()\n",
    "# Initialize all of the statistics we want to keep track of\n",
    "data_time = AverageMeter()\n",
    "loss_meter = AverageMeter()\n",
    "progress = []\n",
    "best_epoch, best_acc = 0, -np.inf\n",
    "global_step, epoch = 0, 0\n",
    "\n",
    "if not isinstance(audio_model, torch.nn.DataParallel):\n",
    "    audio_model = nn.DataParallel(audio_model)\n",
    "if not isinstance(image_model, torch.nn.DataParallel):\n",
    "    image_model = nn.DataParallel(image_model)"
   ],
   "metadata": {
    "collapsed": false,
    "pycharm": {
     "name": "#%%\n",
     "is_executing": false
    }
   }
  },
  {
   "cell_type": "code",
   "execution_count": 3,
   "outputs": [],
   "source": [
    "audio_model = audio_model.to(device)\n",
    "image_model = image_model.to(device)\n",
    "# Set up the optimizer\n",
    "audio_trainables = [p for p in audio_model.parameters() if p.requires_grad]\n",
    "image_trainables = [p for p in image_model.parameters() if p.requires_grad]\n",
    "trainables = audio_trainables + image_trainables\n",
    "optimizer = torch.optim.SGD(trainables, 1e-4,\n",
    "                            momentum=0.9,\n",
    "                            weight_decay=5e-7)"
   ],
   "metadata": {
    "collapsed": false,
    "pycharm": {
     "name": "#%%\n",
     "is_executing": false
    }
   }
  },
  {
   "cell_type": "code",
   "execution_count": 4,
   "outputs": [
    {
     "name": "stdout",
     "text": [
      "current #steps=0, #epochs=0\nstart training...\n",
      "torch.Size([1024])\n"
     ],
     "output_type": "stream"
    },
    {
     "traceback": [
      "\u001b[0;31m---------------------------------------------------------------------------\u001b[0m",
      "\u001b[0;31mAssertionError\u001b[0m                            Traceback (most recent call last)",
      "\u001b[0;32m<ipython-input-4-78a3cd3e9190>\u001b[0m in \u001b[0;36m<module>\u001b[0;34m\u001b[0m\n\u001b[1;32m     20\u001b[0m     \u001b[0mnframes\u001b[0m\u001b[0;34m.\u001b[0m\u001b[0mdiv_\u001b[0m\u001b[0;34m(\u001b[0m\u001b[0mpooling_ratio\u001b[0m\u001b[0;34m)\u001b[0m\u001b[0;34m\u001b[0m\u001b[0;34m\u001b[0m\u001b[0m\n\u001b[1;32m     21\u001b[0m \u001b[0;34m\u001b[0m\u001b[0m\n\u001b[0;32m---> 22\u001b[0;31m     \u001b[0mloss\u001b[0m \u001b[0;34m=\u001b[0m \u001b[0mdot_loss\u001b[0m\u001b[0;34m(\u001b[0m\u001b[0mimage_output\u001b[0m\u001b[0;34m,\u001b[0m \u001b[0maudio_output\u001b[0m\u001b[0;34m)\u001b[0m\u001b[0;34m\u001b[0m\u001b[0;34m\u001b[0m\u001b[0m\n\u001b[0m\u001b[1;32m     23\u001b[0m \u001b[0;34m\u001b[0m\u001b[0m\n\u001b[1;32m     24\u001b[0m     \u001b[0mloss\u001b[0m\u001b[0;34m.\u001b[0m\u001b[0mbackward\u001b[0m\u001b[0;34m(\u001b[0m\u001b[0;34m)\u001b[0m\u001b[0;34m\u001b[0m\u001b[0;34m\u001b[0m\u001b[0m\n",
      "\u001b[0;32m/l/virkkua1/Anaconda3/envs/dave/lib/python3.7/site-packages/torch/nn/modules/module.py\u001b[0m in \u001b[0;36m__call__\u001b[0;34m(self, *input, **kwargs)\u001b[0m\n\u001b[1;32m    545\u001b[0m             \u001b[0mresult\u001b[0m \u001b[0;34m=\u001b[0m \u001b[0mself\u001b[0m\u001b[0;34m.\u001b[0m\u001b[0m_slow_forward\u001b[0m\u001b[0;34m(\u001b[0m\u001b[0;34m*\u001b[0m\u001b[0minput\u001b[0m\u001b[0;34m,\u001b[0m \u001b[0;34m**\u001b[0m\u001b[0mkwargs\u001b[0m\u001b[0;34m)\u001b[0m\u001b[0;34m\u001b[0m\u001b[0;34m\u001b[0m\u001b[0m\n\u001b[1;32m    546\u001b[0m         \u001b[0;32melse\u001b[0m\u001b[0;34m:\u001b[0m\u001b[0;34m\u001b[0m\u001b[0;34m\u001b[0m\u001b[0m\n\u001b[0;32m--> 547\u001b[0;31m             \u001b[0mresult\u001b[0m \u001b[0;34m=\u001b[0m \u001b[0mself\u001b[0m\u001b[0;34m.\u001b[0m\u001b[0mforward\u001b[0m\u001b[0;34m(\u001b[0m\u001b[0;34m*\u001b[0m\u001b[0minput\u001b[0m\u001b[0;34m,\u001b[0m \u001b[0;34m**\u001b[0m\u001b[0mkwargs\u001b[0m\u001b[0;34m)\u001b[0m\u001b[0;34m\u001b[0m\u001b[0;34m\u001b[0m\u001b[0m\n\u001b[0m\u001b[1;32m    548\u001b[0m         \u001b[0;32mfor\u001b[0m \u001b[0mhook\u001b[0m \u001b[0;32min\u001b[0m \u001b[0mself\u001b[0m\u001b[0;34m.\u001b[0m\u001b[0m_forward_hooks\u001b[0m\u001b[0;34m.\u001b[0m\u001b[0mvalues\u001b[0m\u001b[0;34m(\u001b[0m\u001b[0;34m)\u001b[0m\u001b[0;34m:\u001b[0m\u001b[0;34m\u001b[0m\u001b[0;34m\u001b[0m\u001b[0m\n\u001b[1;32m    549\u001b[0m             \u001b[0mhook_result\u001b[0m \u001b[0;34m=\u001b[0m \u001b[0mhook\u001b[0m\u001b[0;34m(\u001b[0m\u001b[0mself\u001b[0m\u001b[0;34m,\u001b[0m \u001b[0minput\u001b[0m\u001b[0;34m,\u001b[0m \u001b[0mresult\u001b[0m\u001b[0;34m)\u001b[0m\u001b[0;34m\u001b[0m\u001b[0;34m\u001b[0m\u001b[0m\n",
      "\u001b[0;32m/m/home/home4/44/virkkua1/unix/PlacesAudio_project/unsupervised-visual/steps/util.py\u001b[0m in \u001b[0;36mforward\u001b[0;34m(self, image_outputs, audio_outputs)\u001b[0m\n\u001b[1;32m     13\u001b[0m \u001b[0;34m\u001b[0m\u001b[0m\n\u001b[1;32m     14\u001b[0m     \u001b[0;32mdef\u001b[0m \u001b[0mforward\u001b[0m\u001b[0;34m(\u001b[0m\u001b[0mself\u001b[0m\u001b[0;34m,\u001b[0m \u001b[0mimage_outputs\u001b[0m\u001b[0;34m,\u001b[0m \u001b[0maudio_outputs\u001b[0m\u001b[0;34m)\u001b[0m\u001b[0;34m:\u001b[0m\u001b[0;34m\u001b[0m\u001b[0;34m\u001b[0m\u001b[0m\n\u001b[0;32m---> 15\u001b[0;31m         \u001b[0;32mreturn\u001b[0m \u001b[0mdot_product_loss\u001b[0m\u001b[0;34m(\u001b[0m\u001b[0mimage_outputs\u001b[0m\u001b[0;34m,\u001b[0m \u001b[0maudio_outputs\u001b[0m\u001b[0;34m,\u001b[0m \u001b[0mmargin\u001b[0m\u001b[0;34m=\u001b[0m\u001b[0mself\u001b[0m\u001b[0;34m.\u001b[0m\u001b[0mmargin\u001b[0m\u001b[0;34m)\u001b[0m\u001b[0;34m\u001b[0m\u001b[0;34m\u001b[0m\u001b[0m\n\u001b[0m\u001b[1;32m     16\u001b[0m \u001b[0;34m\u001b[0m\u001b[0m\n\u001b[1;32m     17\u001b[0m \u001b[0;34m\u001b[0m\u001b[0m\n",
      "\u001b[0;32m/m/home/home4/44/virkkua1/unix/PlacesAudio_project/unsupervised-visual/steps/util.py\u001b[0m in \u001b[0;36mdot_product_loss\u001b[0;34m(image_outputs, audio_outputs, margin)\u001b[0m\n\u001b[1;32m     22\u001b[0m     \"\"\"\n\u001b[1;32m     23\u001b[0m     \u001b[0;32massert\u001b[0m \u001b[0;34m(\u001b[0m\u001b[0mimage_outputs\u001b[0m\u001b[0;34m.\u001b[0m\u001b[0mdim\u001b[0m\u001b[0;34m(\u001b[0m\u001b[0;34m)\u001b[0m \u001b[0;34m==\u001b[0m \u001b[0;36m2\u001b[0m\u001b[0;34m)\u001b[0m\u001b[0;34m\u001b[0m\u001b[0;34m\u001b[0m\u001b[0m\n\u001b[0;32m---> 24\u001b[0;31m     \u001b[0;32massert\u001b[0m \u001b[0;34m(\u001b[0m\u001b[0maudio_outputs\u001b[0m\u001b[0;34m.\u001b[0m\u001b[0mdim\u001b[0m\u001b[0;34m(\u001b[0m\u001b[0;34m)\u001b[0m \u001b[0;34m==\u001b[0m \u001b[0;36m2\u001b[0m\u001b[0;34m)\u001b[0m\u001b[0;34m\u001b[0m\u001b[0;34m\u001b[0m\u001b[0m\n\u001b[0m\u001b[1;32m     25\u001b[0m     \u001b[0mn\u001b[0m \u001b[0;34m=\u001b[0m \u001b[0mimage_outputs\u001b[0m\u001b[0;34m.\u001b[0m\u001b[0msize\u001b[0m\u001b[0;34m(\u001b[0m\u001b[0;36m0\u001b[0m\u001b[0;34m)\u001b[0m\u001b[0;34m\u001b[0m\u001b[0;34m\u001b[0m\u001b[0m\n\u001b[1;32m     26\u001b[0m     \u001b[0mloss\u001b[0m \u001b[0;34m=\u001b[0m \u001b[0mtorch\u001b[0m\u001b[0;34m.\u001b[0m\u001b[0mzeros\u001b[0m\u001b[0;34m(\u001b[0m\u001b[0;36m1\u001b[0m\u001b[0;34m,\u001b[0m \u001b[0mdevice\u001b[0m\u001b[0;34m=\u001b[0m\u001b[0mimage_outputs\u001b[0m\u001b[0;34m.\u001b[0m\u001b[0mdevice\u001b[0m\u001b[0;34m,\u001b[0m \u001b[0mrequires_grad\u001b[0m\u001b[0;34m=\u001b[0m\u001b[0;32mTrue\u001b[0m\u001b[0;34m)\u001b[0m\u001b[0;34m\u001b[0m\u001b[0;34m\u001b[0m\u001b[0m\n",
      "\u001b[0;31mAssertionError\u001b[0m: "
     ],
     "ename": "AssertionError",
     "evalue": "",
     "output_type": "error"
    }
   ],
   "source": [
    "print(\"current #steps=%s, #epochs=%s\" % (global_step, epoch))\n",
    "print(\"start training...\")\n",
    "\n",
    "audio_model.train()\n",
    "image_model.train()\n",
    "\n",
    "for i, (image_input, audio_input, nframes) in enumerate(train_loader):\n",
    "    # measure data loading time\n",
    "    B = audio_input.size(0)\n",
    "\n",
    "    audio_input = audio_input.to(device)\n",
    "    image_input = image_input.to(device)\n",
    "\n",
    "    optimizer.zero_grad()\n",
    "\n",
    "    audio_output = audio_model(audio_input)\n",
    "    image_output = image_model(image_input)\n",
    "    print(audio_output.size())\n",
    "    pooling_ratio = round(audio_input.size(-1) / audio_output.size(-1))\n",
    "    nframes.div_(pooling_ratio)\n",
    "\n",
    "    loss = dot_loss(image_output, audio_output)\n",
    "\n",
    "    loss.backward()\n",
    "    optimizer.step()\n",
    "\n",
    "    # record loss\n",
    "    loss_meter.update(loss.item(), B)\n",
    "\n",
    "    print('Data {data_time.val:.3f} ({data_time.avg:.3f})\\t'\n",
    "          'Loss total {loss_meter.val:.4f} ({loss_meter.avg:.4f})'.format(\n",
    "            data_time=data_time, loss_meter=loss_meter), flush=True)\n"
   ],
   "metadata": {
    "collapsed": false,
    "pycharm": {
     "name": "#%%\n",
     "is_executing": false
    }
   }
  },
  {
   "cell_type": "code",
   "execution_count": null,
   "outputs": [],
   "source": [
    "device = torch.device(\"cuda\" if torch.cuda.is_available() else \"cpu\")\n",
    "batch_time = AverageMeter()\n",
    "if not isinstance(audio_model, torch.nn.DataParallel):\n",
    "    audio_model = nn.DataParallel(audio_model)\n",
    "if not isinstance(image_model, torch.nn.DataParallel):\n",
    "    image_model = nn.DataParallel(image_model)\n",
    "audio_model = audio_model.to(device)\n",
    "image_model = image_model.to(device)\n",
    "# switch to evaluate mode\n",
    "image_model.eval()\n",
    "audio_model.eval()\n",
    "\n",
    "end = time.time()\n",
    "N_examples = len(val_loader.dataset)\n",
    "I_embeddings = []\n",
    "A_embeddings = []\n",
    "frame_counts = []\n",
    "with torch.no_grad():\n",
    "    for i, (image_input, audio_input, nframes) in enumerate(val_loader):\n",
    "        image_input = image_input.to(device)\n",
    "        audio_input = audio_input.to(device)\n",
    "\n",
    "        # compute output\n",
    "        image_output = image_model(image_input)\n",
    "        audio_output = audio_model(audio_input)\n",
    "\n",
    "        image_output = image_output.to('cpu').detach()\n",
    "        audio_output = audio_output.to('cpu').detach()\n",
    "\n",
    "        I_embeddings.append(image_output)\n",
    "        A_embeddings.append(audio_output)\n",
    "\n",
    "        pooling_ratio = round(audio_input.size(-1) / audio_output.size(-1))\n",
    "        nframes.div_(pooling_ratio)\n",
    "\n",
    "        frame_counts.append(nframes.cpu())\n",
    "\n",
    "        batch_time.update(time.time() - end)\n",
    "        end = time.time()\n",
    "\n",
    "    image_output = torch.cat(I_embeddings)\n",
    "    audio_output = torch.cat(A_embeddings)\n",
    "    nframes = torch.cat(frame_counts)\n",
    "\n",
    "    recalls = calc_recalls(image_output, audio_output)"
   ],
   "metadata": {
    "collapsed": false,
    "pycharm": {
     "name": "#%%\n",
     "is_executing": false
    }
   }
  }
 ],
 "metadata": {
  "kernelspec": {
   "display_name": "Python 3",
   "language": "python",
   "name": "python3"
  },
  "language_info": {
   "codemirror_mode": {
    "name": "ipython",
    "version": 2
   },
   "file_extension": ".py",
   "mimetype": "text/x-python",
   "name": "python",
   "nbconvert_exporter": "python",
   "pygments_lexer": "ipython2",
   "version": "2.7.6"
  },
  "pycharm": {
   "stem_cell": {
    "cell_type": "raw",
    "source": [],
    "metadata": {
     "collapsed": false
    }
   }
  }
 },
 "nbformat": 4,
 "nbformat_minor": 0
}